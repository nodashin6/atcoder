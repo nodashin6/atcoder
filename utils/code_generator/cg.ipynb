{
 "cells": [
  {
   "cell_type": "code",
   "execution_count": 2,
   "metadata": {},
   "outputs": [
    {
     "name": "stderr",
     "output_type": "stream",
     "text": [
      "Exception in Tkinter callback\n",
      "Traceback (most recent call last):\n",
      "  File \"c:\\Users\\datmd\\anaconda3\\envs\\pt\\lib\\tkinter\\__init__.py\", line 1921, in __call__\n",
      "    return self.func(*args)\n",
      "  File \"c:\\Users\\datmd\\anaconda3\\envs\\pt\\lib\\tkinter\\__init__.py\", line 839, in callit\n",
      "    func(*args)\n",
      "  File \"C:\\Users\\datmd\\AppData\\Local\\Temp\\ipykernel_22580\\4025738521.py\", line 15, in show\n",
      "    pyperclip.copy(s)\n",
      "  File \"c:\\Users\\datmd\\anaconda3\\envs\\pt\\lib\\site-packages\\pyperclip\\__init__.py\", line 471, in copy_windows\n",
      "    with clipboard(hwnd):\n",
      "  File \"c:\\Users\\datmd\\anaconda3\\envs\\pt\\lib\\contextlib.py\", line 135, in __enter__\n",
      "    return next(self.gen)\n",
      "  File \"c:\\Users\\datmd\\anaconda3\\envs\\pt\\lib\\site-packages\\pyperclip\\__init__.py\", line 452, in clipboard\n",
      "    raise PyperclipWindowsException(\"Error calling OpenClipboard\")\n",
      "pyperclip.PyperclipWindowsException: Error calling OpenClipboard ([WinError 5] アクセスが拒否されました。)\n"
     ]
    }
   ],
   "source": [
    "import tkinter as tk\n",
    "import pyperclip\n",
    "\n",
    "def show():\n",
    "\n",
    "    if bvar[0].get() and bvar[1].get():\n",
    "        s = '[x-1 for x in map(int, input().split())]'\n",
    "    elif bvar[0].get():\n",
    "        s = 'list(map(int, input().split()))'\n",
    "    elif bvar[1].get():\n",
    "        s = 'Error'\n",
    "    else:\n",
    "        s = 'input().split()'\n",
    "\n",
    "    pyperclip.copy(s)\n",
    "    text.delete('1.0', tk.END)\n",
    "    text.insert('1.0', s)\n",
    "    root.after(200, show)\n",
    "    return\n",
    "\n",
    "root = tk.Tk()\n",
    "root.title('Code Generator')\n",
    "root.resizable(False, False)\n",
    "\n",
    "canvas = tk.Canvas(root, width=800, height=600)\n",
    "canvas.pack()\n",
    "\n",
    "text = tk.Text(width=40, height=5, font=('Arial', 14))\n",
    "text.place(x=320, y=30)\n",
    "\n",
    "n = 2\n",
    "btn_items = [\n",
    "    'int',\n",
    "    '-1'\n",
    "]\n",
    "bvar = [None]*n\n",
    "cbtn = [None]*n\n",
    "for i in range(n):\n",
    "    bvar[i] = tk.BooleanVar(value=False)\n",
    "    cbtn[i] = tk.Checkbutton(\n",
    "        text=btn_items[i],\n",
    "        font=('Arial', 14),\n",
    "        variable=bvar[i],\n",
    "        bg='#dfe'\n",
    "    )\n",
    "    cbtn[i].place(x=400, y=160+40*i)\n",
    "\n",
    "root.after(200, show)\n",
    "root.mainloop()"
   ]
  },
  {
   "cell_type": "code",
   "execution_count": null,
   "metadata": {},
   "outputs": [],
   "source": []
  }
 ],
 "metadata": {
  "kernelspec": {
   "display_name": "Python 3.10.4 ('pt')",
   "language": "python",
   "name": "python3"
  },
  "language_info": {
   "codemirror_mode": {
    "name": "ipython",
    "version": 3
   },
   "file_extension": ".py",
   "mimetype": "text/x-python",
   "name": "python",
   "nbconvert_exporter": "python",
   "pygments_lexer": "ipython3",
   "version": "3.10.4"
  },
  "orig_nbformat": 4,
  "vscode": {
   "interpreter": {
    "hash": "a2633da607896affd7e732601ea117d887aff858194c7ff27d2f342435ed2ac0"
   }
  }
 },
 "nbformat": 4,
 "nbformat_minor": 2
}
